{
 "cells": [
  {
   "cell_type": "code",
   "execution_count": 1,
   "id": "f2412585",
   "metadata": {},
   "outputs": [],
   "source": [
    "from langchain.llms.openai import OpenAI\n",
    "from langchain.prompts import PromptTemplate\n",
    "from langchain.chains import LLMChain\n",
    "import os\n",
    "from dotenv import load_dotenv\n",
    "\n",
    "load_dotenv()\n",
    "\n",
    "OPENAI_API_KEY = os.environ.get('OPENAI_API_KEY')"
   ]
  },
  {
   "cell_type": "code",
   "execution_count": 2,
   "id": "87c9756e",
   "metadata": {},
   "outputs": [],
   "source": [
    "def load_and_format_file(csv_file):\n",
    "    with open(csv_file, \"r\") as file:\n",
    "        file_contents = file.readlines()\n",
    "    return ''.join(file_contents)"
   ]
  },
  {
   "cell_type": "code",
   "execution_count": null,
   "id": "2406ace5",
   "metadata": {},
   "outputs": [],
   "source": []
  },
  {
   "cell_type": "code",
   "execution_count": 3,
   "id": "077d2d19",
   "metadata": {},
   "outputs": [],
   "source": [
    "def load_openai_llm(api_key, model=\"gpt-3.5-turbo-instruct-0914\", temperature=0.4):\n",
    "    llm = OpenAI(openai_api_key=api_key, model=model, temperature=temperature)\n",
    "    return llm"
   ]
  },
  {
   "cell_type": "code",
   "execution_count": 4,
   "id": "1fbeb9a0",
   "metadata": {},
   "outputs": [],
   "source": [
    "def ask_ai(csv_file, api_key, task_number, spent_budget, today_date):\n",
    "    formatted_file_contents = load_and_format_file(csv_file)\n",
    "    llm = load_openai_llm(api_key)\n",
    "\n",
    "    prompt = PromptTemplate(\n",
    "        input_variables=[\"spent_budget\", \"today_date\", \"task_number\"],\n",
    "        template=f\"\"\"You are given this file\n",
    "\n",
    "    {formatted_file_contents},\n",
    "\n",
    "    For task number {{task_number}}, the budget total budget invested is currently {{spent_budget}}, and we are {{today_date}}.\n",
    "\n",
    "    Return a RAG color and use your expert knowledge of power plant contruction project management to provide five bullet point recommendations in this format [COLOR, list of five recommendations] for task {{task_number}}.\n",
    "\n",
    "    \"\"\"\n",
    "    )\n",
    "\n",
    "    chain = LLMChain(llm=llm, prompt=prompt)\n",
    "\n",
    "    response = chain.run({\n",
    "        'spent_budget': spent_budget,\n",
    "        'today_date': today_date,\n",
    "        'task_number': task_number,\n",
    "    })\n",
    "\n",
    "    status = response.split(\",\")[0].strip().lower()\n",
    "    status = status.replace(\"[\", \"\").replace(\"]\", \"\").strip()\n",
    "\n",
    "    return task_number, status, response"
   ]
  },
  {
   "cell_type": "code",
   "execution_count": 5,
   "id": "97b58a3f",
   "metadata": {},
   "outputs": [],
   "source": [
    "def update_status_in_csv(task_number, new_status, csv_file):\n",
    "    valid_statuses = [\"r\", \"red\", \"g\", \"green\", \"a\", \"amber\", \"o\", \"orange\"]\n",
    "\n",
    "    if new_status not in valid_statuses:\n",
    "        return\n",
    "\n",
    "    with open(csv_file, \"r\") as file:\n",
    "        rows = file.readlines()\n",
    "\n",
    "    header = rows[0].strip().split(',')\n",
    "    status_index = header.index('Status')\n",
    "\n",
    "    for index, row in enumerate(rows):\n",
    "        row_elements = row.strip().split(',')\n",
    "        if row_elements[0] == str(task_number):\n",
    "            row_elements[status_index] = new_status\n",
    "            rows[index] = \",\".join(row_elements) + \"\\n\"\n",
    "\n",
    "    with open(csv_file, \"w\") as file:\n",
    "        file.writelines(rows)"
   ]
  },
  {
   "cell_type": "code",
   "execution_count": 6,
   "id": "745f739d",
   "metadata": {},
   "outputs": [],
   "source": [
    "task_number, status, response = ask_ai(\"../tasks.csv\", OPENAI_API_KEY, 1, 19000, \"2023-10-09\")"
   ]
  },
  {
   "cell_type": "code",
   "execution_count": 7,
   "id": "08c4b6b4",
   "metadata": {},
   "outputs": [
    {
     "data": {
      "text/plain": [
       "(1,\n",
       " 'red',\n",
       " '[red, [1. Re-evaluate budget allocation to ensure all necessary tasks are accounted for.\\n2. Prioritize tasks to ensure timely completion.\\n3. Monitor progress closely to identify any potential delays.\\n4. Consider reallocating resources to address any potential bottlenecks.\\n5. Communicate regularly with stakeholders to keep them informed of any changes or updates.]]')"
      ]
     },
     "execution_count": 7,
     "metadata": {},
     "output_type": "execute_result"
    }
   ],
   "source": [
    "task_number, status, response"
   ]
  },
  {
   "cell_type": "code",
   "execution_count": null,
   "id": "53adc8f1",
   "metadata": {},
   "outputs": [],
   "source": []
  }
 ],
 "metadata": {
  "kernelspec": {
   "display_name": "Python 3 (ipykernel)",
   "language": "python",
   "name": "python3"
  },
  "language_info": {
   "codemirror_mode": {
    "name": "ipython",
    "version": 3
   },
   "file_extension": ".py",
   "mimetype": "text/x-python",
   "name": "python",
   "nbconvert_exporter": "python",
   "pygments_lexer": "ipython3",
   "version": "3.10.6"
  }
 },
 "nbformat": 4,
 "nbformat_minor": 5
}
