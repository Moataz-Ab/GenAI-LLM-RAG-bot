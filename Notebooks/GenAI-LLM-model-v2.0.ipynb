{
 "cells": [
  {
   "cell_type": "code",
   "execution_count": 1,
   "id": "f2412585",
   "metadata": {},
   "outputs": [],
   "source": [
    "from langchain.llms.openai import OpenAI\n",
    "from langchain.prompts import PromptTemplate\n",
    "from langchain.chains import LLMChain\n",
    "import os\n",
    "from dotenv import load_dotenv\n",
    "\n",
    "load_dotenv()\n",
    "\n",
    "OPENAI_API_KEY = os.environ.get('OPENAI_API_KEY')"
   ]
  },
  {
   "cell_type": "code",
   "execution_count": 2,
   "id": "87c9756e",
   "metadata": {},
   "outputs": [],
   "source": [
    "def load_and_format_file(csv_file):\n",
    "    '''\n",
    "    - Takes in a csv file and creates file_content list object of the lines in the csv file\n",
    "    - Returns a single string of concatenated elemnts in file_contents\n",
    "    '''\n",
    "    with open(csv_file, \"r\") as file:\n",
    "        file_contents = file.readlines()\n",
    "    return ''.join(file_contents)"
   ]
  },
  {
   "cell_type": "code",
   "execution_count": 3,
   "id": "077d2d19",
   "metadata": {},
   "outputs": [],
   "source": [
    "def load_openai_llm(api_key, model=\"gpt-3.5-turbo-instruct-0914\", temperature=0.4):\n",
    "    '''\n",
    "    - Creates OpenAI model\n",
    "    '''\n",
    "    llm = OpenAI(openai_api_key=api_key, model=model, temperature=temperature)\n",
    "    return llm"
   ]
  },
  {
   "cell_type": "code",
   "execution_count": 4,
   "id": "1fbeb9a0",
   "metadata": {},
   "outputs": [],
   "source": [
    "def ask_ai(csv_file, api_key, task_number, original_budget, spent_budget, starting_date, deadline_date, date):\n",
    "    '''\n",
    "    - Takes in csv and farmats it into a single string\n",
    "    - Creates an OpenAI model\n",
    "    - Propts the model to return task status color and recommendations\n",
    "    - Returns the task number, status color, and recommendation response\n",
    "    '''\n",
    "    formatted_file_contents = load_and_format_file(csv_file)\n",
    "    llm = load_openai_llm(api_key)\n",
    "\n",
    "    prompt = PromptTemplate(\n",
    "        input_variables=[\"original_budget\", \"spent_budget\", \"starting_date\", \"deadline_date\", \"task_number\", \"date\"],\n",
    "        template=f\"\"\"You are an expert in project management. you are given this file which contains data of tasks in a project {formatted_file_contents} For task number {{task_number}}, the original budget allocated for the task is {{original_budget}}. From this amount we have so far spent {{spent_budget}}, the task starting date is {{starting_date}}, and task deadline is {{deadline_date}}. Today is {{date}}. Use your understanding of project management to return a RAG color representing the task status and a recommendation in this format [COLOR, Recommendation] for task {{task_number}}. Your recommendation must include 3 expert exdvices about three important aspects of current status of the task number {{task_number}}\n",
    "        \"\"\"\n",
    "    )\n",
    "\n",
    "    chain = LLMChain(llm=llm, prompt=prompt)\n",
    "\n",
    "    response = chain.run({\n",
    "        'original_budget' : original_budget,\n",
    "        'spent_budget' : spent_budget,\n",
    "        'starting_date' : starting_date,\n",
    "        'deadline_date' : deadline_date,\n",
    "        'task_number': task_number,\n",
    "        'date' : date\n",
    "    })\n",
    "\n",
    "    status = response.split(\",\")[0].strip().lower()\n",
    "    status = status.replace(\"[\", \"\").replace(\"]\", \"\").strip()\n",
    "\n",
    "    return task_number, status, response"
   ]
  },
  {
   "cell_type": "code",
   "execution_count": 5,
   "id": "97b58a3f",
   "metadata": {},
   "outputs": [],
   "source": [
    "def update_status_and_budget_in_csv(task_number, new_status, spent_budget, csv_file, recommendation):\n",
    "    '''\n",
    "    - Takes in the csv file, task number, the spent budget, the new status and recommendation from the model\n",
    "    - Locates the status datapoint of the selected task and updates the status\n",
    "    - Adds the task recommendation in the recommendation column\n",
    "    '''\n",
    "\n",
    "    valid_statuses = [\"r\", \"red\", \"g\", \"green\", \"a\", \"amber\", \"o\", \"orange\"]\n",
    "\n",
    "    if new_status not in valid_statuses:\n",
    "        return\n",
    "\n",
    "    with open(csv_file, \"r\") as file:\n",
    "        rows = file.readlines()\n",
    "\n",
    "    header = rows[0].strip().split(',')\n",
    "    status_index = header.index('Status')\n",
    "    budget_index = header.index('Spent budget')\n",
    "\n",
    "    # Check if the recommendation column exists, if not, add it\n",
    "    if 'Recommendation' not in header:\n",
    "        header.append('Recommendation')\n",
    "        rows[0] = \",\".join(header) + \"\\n\"\n",
    "\n",
    "    recommendation_index = header.index('Recommendation')\n",
    "\n",
    "    for index, row in enumerate(rows):\n",
    "        row_elements = row.strip().split(',')\n",
    "        if row_elements[0] == str(task_number):\n",
    "            row_elements[status_index] = new_status\n",
    "            row_elements[budget_index] = str(spent_budget)\n",
    "            # Check if row already has recommendation column data, if not, add a placeholder\n",
    "            if len(row_elements) <= recommendation_index:\n",
    "                row_elements.append(\"\")\n",
    "            row_elements[recommendation_index] = recommendation\n",
    "            rows[index] = \",\".join(row_elements) + \"\\n\"\n",
    "\n",
    "    with open(csv_file, \"w\") as file:\n",
    "        file.writelines(rows)"
   ]
  },
  {
   "cell_type": "code",
   "execution_count": 6,
   "id": "745f739d",
   "metadata": {},
   "outputs": [],
   "source": [
    "#(csv_file, api_key, task_number, original_budget, spent_budget, starting_date, deadline_date, date)\n",
    "task_number_1, status_1, response_1 = ask_ai(\"../tasks.csv\", OPENAI_API_KEY, 1, 20000, 23600,\"2023-10-01\",\"2023-10-31\", \"2023-10-11\")"
   ]
  },
  {
   "cell_type": "code",
   "execution_count": 7,
   "id": "08c4b6b4",
   "metadata": {},
   "outputs": [
    {
     "data": {
      "text/plain": [
       "(1,\n",
       " 'red',\n",
       " '\\n[red, \"The current budget for task 1 has exceeded the allocated maximum budget. It is recommended to review the budget and make necessary adjustments to stay within the allocated maximum budget. Additionally, it is important to closely monitor the spending for this task and make any necessary adjustments to prevent further budget overruns. It is also recommended to communicate the budget issues to the project stakeholders and seek their support in managing the budget effectively.\"]')"
      ]
     },
     "execution_count": 7,
     "metadata": {},
     "output_type": "execute_result"
    }
   ],
   "source": [
    "task_number_1, status_1, response_1"
   ]
  },
  {
   "cell_type": "code",
   "execution_count": 8,
   "id": "53adc8f1",
   "metadata": {},
   "outputs": [],
   "source": [
    "#(csv_file, api_key, task_number, original_budget, spent_budget, starting_date, deadline_date, date)\n",
    "task_number_2, status_2, response_2 = ask_ai(\"../tasks.csv\", OPENAI_API_KEY, 2, 15000, 1200,\"2023-10-05\",\"2023-11-15\", \"2023-10-11\")"
   ]
  },
  {
   "cell_type": "code",
   "execution_count": 9,
   "id": "4c301b76",
   "metadata": {},
   "outputs": [
    {
     "data": {
      "text/plain": [
       "(2,\n",
       " 'green',\n",
       " '\\n[green, \"The current status of task 2 is on track and within the allocated budget. However, it is important to closely monitor the progress and ensure that the remaining budget is used efficiently. Additionally, regular communication with the team and stakeholders is crucial to keep everyone informed and address any potential issues in a timely manner. Lastly, it is recommended to regularly review the project plan and make necessary adjustments to ensure the task stays on track and is completed within the allocated time frame.\"]')"
      ]
     },
     "execution_count": 9,
     "metadata": {},
     "output_type": "execute_result"
    }
   ],
   "source": [
    "task_number_2, status_2, response_2"
   ]
  },
  {
   "cell_type": "code",
   "execution_count": 12,
   "id": "f0a1c7b1",
   "metadata": {},
   "outputs": [],
   "source": [
    "#(csv_file, api_key, task_number, original_budget, spent_budget, starting_date, deadline_date, date)\n",
    "task_number_4, status_4, response_4 = ask_ai(\"../tasks.csv\", OPENAI_API_KEY, 4, 18000, 19500,\"2023-10-10\",\"2023-12-01\", \"2023-10-11\")"
   ]
  },
  {
   "cell_type": "code",
   "execution_count": 13,
   "id": "f0bbdfaa",
   "metadata": {},
   "outputs": [
    {
     "data": {
      "text/plain": [
       "(4,\n",
       " 'red',\n",
       " '\\n[red, \"The current budget for task 4 has exceeded the allocated maximum budget. It is recommended to review the budget and make necessary adjustments to stay within the allocated maximum budget. Additionally, it is important to closely monitor the spending and make sure it stays within the allocated budget. It is also recommended to reassess the timeline and make necessary adjustments to ensure the task is completed within the given deadline. Finally, it is important to communicate any budget or timeline changes to all stakeholders to ensure transparency and avoid any potential delays or issues.\"]')"
      ]
     },
     "execution_count": 13,
     "metadata": {},
     "output_type": "execute_result"
    }
   ],
   "source": [
    "task_number_4, status_4, response_4"
   ]
  },
  {
   "cell_type": "code",
   "execution_count": null,
   "id": "f50caa62",
   "metadata": {},
   "outputs": [],
   "source": []
  }
 ],
 "metadata": {
  "kernelspec": {
   "display_name": "Python 3 (ipykernel)",
   "language": "python",
   "name": "python3"
  },
  "language_info": {
   "codemirror_mode": {
    "name": "ipython",
    "version": 3
   },
   "file_extension": ".py",
   "mimetype": "text/x-python",
   "name": "python",
   "nbconvert_exporter": "python",
   "pygments_lexer": "ipython3",
   "version": "3.10.6"
  }
 },
 "nbformat": 4,
 "nbformat_minor": 5
}
