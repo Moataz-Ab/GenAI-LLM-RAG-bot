{
 "cells": [
  {
   "cell_type": "code",
   "execution_count": 1,
   "id": "56caf16b",
   "metadata": {},
   "outputs": [],
   "source": [
    "import pandas as pd"
   ]
  },
  {
   "cell_type": "code",
   "execution_count": 3,
   "id": "14d487ba",
   "metadata": {},
   "outputs": [],
   "source": [
    "csv = pd.read_csv('../tasks.csv')"
   ]
  },
  {
   "cell_type": "code",
   "execution_count": 4,
   "id": "9a388665",
   "metadata": {},
   "outputs": [
    {
     "data": {
      "text/html": [
       "<div>\n",
       "<style scoped>\n",
       "    .dataframe tbody tr th:only-of-type {\n",
       "        vertical-align: middle;\n",
       "    }\n",
       "\n",
       "    .dataframe tbody tr th {\n",
       "        vertical-align: top;\n",
       "    }\n",
       "\n",
       "    .dataframe thead th {\n",
       "        text-align: right;\n",
       "    }\n",
       "</style>\n",
       "<table border=\"1\" class=\"dataframe\">\n",
       "  <thead>\n",
       "    <tr style=\"text-align: right;\">\n",
       "      <th></th>\n",
       "      <th>Task</th>\n",
       "      <th>Original budget</th>\n",
       "      <th>Spent budget</th>\n",
       "      <th>Starting date</th>\n",
       "      <th>Deadline date</th>\n",
       "      <th>Status</th>\n",
       "      <th>recommendation</th>\n",
       "    </tr>\n",
       "  </thead>\n",
       "  <tbody>\n",
       "    <tr>\n",
       "      <th>0</th>\n",
       "      <td>1</td>\n",
       "      <td>20000</td>\n",
       "      <td>30000</td>\n",
       "      <td>2023-10-01</td>\n",
       "      <td>2023-10-31</td>\n",
       "      <td>red</td>\n",
       "      <td>\"The current budget is higher than the maximu...</td>\n",
       "    </tr>\n",
       "    <tr>\n",
       "      <th>1</th>\n",
       "      <td>2</td>\n",
       "      <td>15000</td>\n",
       "      <td>20000</td>\n",
       "      <td>2023-10-05</td>\n",
       "      <td>2023-11-15</td>\n",
       "      <td>red</td>\n",
       "      <td>None</td>\n",
       "    </tr>\n",
       "    <tr>\n",
       "      <th>2</th>\n",
       "      <td>3</td>\n",
       "      <td>25000</td>\n",
       "      <td>10000</td>\n",
       "      <td>2023-10-15</td>\n",
       "      <td>2023-11-30</td>\n",
       "      <td>green</td>\n",
       "      <td>\"The current budget is within the allocated m...</td>\n",
       "    </tr>\n",
       "    <tr>\n",
       "      <th>3</th>\n",
       "      <td>4</td>\n",
       "      <td>18000</td>\n",
       "      <td>20000</td>\n",
       "      <td>2023-10-10</td>\n",
       "      <td>2023-12-01</td>\n",
       "      <td>green</td>\n",
       "      <td>None</td>\n",
       "    </tr>\n",
       "    <tr>\n",
       "      <th>4</th>\n",
       "      <td>5</td>\n",
       "      <td>30000</td>\n",
       "      <td>60000</td>\n",
       "      <td>2023-10-20</td>\n",
       "      <td>2023-12-15</td>\n",
       "      <td>red</td>\n",
       "      <td>None</td>\n",
       "    </tr>\n",
       "  </tbody>\n",
       "</table>\n",
       "</div>"
      ],
      "text/plain": [
       "   Task  Original budget  Spent budget Starting date  Deadline date Status  \\\n",
       "0     1            20000         30000    2023-10-01     2023-10-31    red   \n",
       "1     2            15000         20000    2023-10-05     2023-11-15    red   \n",
       "2     3            25000         10000    2023-10-15     2023-11-30  green   \n",
       "3     4            18000         20000    2023-10-10     2023-12-01  green   \n",
       "4     5            30000         60000    2023-10-20     2023-12-15    red   \n",
       "\n",
       "                                      recommendation  \n",
       "0   \"The current budget is higher than the maximu...  \n",
       "1                                               None  \n",
       "2   \"The current budget is within the allocated m...  \n",
       "3                                               None  \n",
       "4                                               None  "
      ]
     },
     "execution_count": 4,
     "metadata": {},
     "output_type": "execute_result"
    }
   ],
   "source": [
    "csv"
   ]
  },
  {
   "cell_type": "code",
   "execution_count": null,
   "id": "6acca6ff",
   "metadata": {},
   "outputs": [],
   "source": [
    "# original_budget = None\n",
    "# starting_date = None\n",
    "# deadline_date = None"
   ]
  },
  {
   "cell_type": "code",
   "execution_count": 5,
   "id": "6c78fc32",
   "metadata": {},
   "outputs": [
    {
     "data": {
      "text/plain": [
       "15000"
      ]
     },
     "execution_count": 5,
     "metadata": {},
     "output_type": "execute_result"
    }
   ],
   "source": [
    "original_budget = csv.iloc[1,1]"
   ]
  },
  {
   "cell_type": "code",
   "execution_count": 8,
   "id": "e79bf45b",
   "metadata": {},
   "outputs": [
    {
     "data": {
      "text/plain": [
       "'2023-10-05'"
      ]
     },
     "execution_count": 8,
     "metadata": {},
     "output_type": "execute_result"
    }
   ],
   "source": [
    "starting_date = csv.iloc[1,3]\n",
    "starting_date"
   ]
  },
  {
   "cell_type": "code",
   "execution_count": 10,
   "id": "4987fe0f",
   "metadata": {},
   "outputs": [
    {
     "data": {
      "text/plain": [
       "'2023-11-15'"
      ]
     },
     "execution_count": 10,
     "metadata": {},
     "output_type": "execute_result"
    }
   ],
   "source": [
    "deadline_date = csv.iloc[1,4]\n",
    "deadline_date"
   ]
  },
  {
   "cell_type": "code",
   "execution_count": null,
   "id": "4cca8adf",
   "metadata": {},
   "outputs": [],
   "source": []
  }
 ],
 "metadata": {
  "kernelspec": {
   "display_name": "Python 3 (ipykernel)",
   "language": "python",
   "name": "python3"
  },
  "language_info": {
   "codemirror_mode": {
    "name": "ipython",
    "version": 3
   },
   "file_extension": ".py",
   "mimetype": "text/x-python",
   "name": "python",
   "nbconvert_exporter": "python",
   "pygments_lexer": "ipython3",
   "version": "3.10.6"
  },
  "toc": {
   "base_numbering": 1,
   "nav_menu": {},
   "number_sections": true,
   "sideBar": true,
   "skip_h1_title": false,
   "title_cell": "Table of Contents",
   "title_sidebar": "Contents",
   "toc_cell": false,
   "toc_position": {},
   "toc_section_display": true,
   "toc_window_display": false
  }
 },
 "nbformat": 4,
 "nbformat_minor": 5
}
