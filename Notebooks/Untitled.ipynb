{
 "cells": [
  {
   "cell_type": "code",
   "execution_count": 18,
   "id": "56caf16b",
   "metadata": {},
   "outputs": [],
   "source": [
    "from langchain.llms.openai import OpenAI\n",
    "from langchain.prompts import PromptTemplate\n",
    "from langchain.chains import LLMChain\n",
    "import os\n",
    "from dotenv import load_dotenv\n",
    "\n",
    "load_dotenv()\n",
    "\n",
    "OPENAI_API_KEY = os.environ.get('OPENAI_API_KEY')\n",
    "\n",
    "\n",
    "def load_and_format_file(csv_file):\n",
    "    with open(csv_file, \"r\") as file:\n",
    "        file_contents = file.readlines()\n",
    "    return ''.join(file_contents)\n",
    "\n",
    "\n",
    "def load_openai_llm(api_key, model=\"gpt-3.5-turbo-instruct-0914\", temperature=0.4):\n",
    "    llm = OpenAI(openai_api_key=api_key, model=model, temperature=temperature)\n",
    "    return llm\n",
    "\n",
    "\n",
    "def ask_ai(csv_file, api_key, task_number, budget, date):\n",
    "    formatted_file_contents = load_and_format_file(csv_file)\n",
    "    llm = load_openai_llm(api_key)\n",
    "\n",
    "    prompt = PromptTemplate(\n",
    "        input_variables=[\"budget\", \"date\", \"task_number\"],\n",
    "        template=f\"\"\"You are given this file\n",
    "\n",
    "    {formatted_file_contents},\n",
    "\n",
    "    For task number {{task_number}}, the budget total budget invested is currently {{budget}}, and we are {{date}}.\n",
    "\n",
    "    Return a RAG color and the justification in this format [COLOR, REASON] for task {{task_number}}.\n",
    "\n",
    "    \"\"\"\n",
    "    )\n",
    "\n",
    "    chain = LLMChain(llm=llm, prompt=prompt)\n",
    "\n",
    "    response = chain.run({\n",
    "        'budget': budget,\n",
    "        'date': date,\n",
    "        'task_number': task_number,\n",
    "    })\n",
    "\n",
    "    status = response.split(\",\")[0].strip().lower()\n",
    "    status = status.replace(\"[\", \"\").replace(\"]\", \"\").strip()\n",
    "\n",
    "    return task_number, status, response\n",
    "\n",
    "def update_status_in_csv(task_number, new_status, csv_file):\n",
    "    valid_statuses = [\"r\", \"red\", \"g\", \"green\", \"a\", \"amber\", \"o\", \"orange\"]\n",
    "\n",
    "    if new_status not in valid_statuses:\n",
    "        return\n",
    "\n",
    "    with open(csv_file, \"r\") as file:\n",
    "        rows = file.readlines()\n",
    "\n",
    "    header = rows[0].strip().split(',')\n",
    "    status_index = header.index('Status')\n",
    "\n",
    "    for index, row in enumerate(rows):\n",
    "        row_elements = row.strip().split(',')\n",
    "        if row_elements[0] == str(task_number):\n",
    "            row_elements[status_index] = new_status\n",
    "            rows[index] = \",\".join(row_elements) + \"\\n\"\n",
    "\n",
    "    with open(csv_file, \"w\") as file:\n",
    "        file.writelines(rows)\n"
   ]
  },
  {
   "cell_type": "code",
   "execution_count": 19,
   "id": "14d487ba",
   "metadata": {},
   "outputs": [],
   "source": [
    "task_number, status, response = ask_ai(\"../tasks.csv\", OPENAI_API_KEY, 2, 15000, \"2023-01-01\")"
   ]
  },
  {
   "cell_type": "code",
   "execution_count": null,
   "id": "9a388665",
   "metadata": {},
   "outputs": [],
   "source": []
  },
  {
   "cell_type": "code",
   "execution_count": null,
   "id": "6acca6ff",
   "metadata": {},
   "outputs": [],
   "source": []
  },
  {
   "cell_type": "code",
   "execution_count": null,
   "id": "6c78fc32",
   "metadata": {},
   "outputs": [],
   "source": []
  },
  {
   "cell_type": "code",
   "execution_count": null,
   "id": "e79bf45b",
   "metadata": {},
   "outputs": [],
   "source": []
  },
  {
   "cell_type": "code",
   "execution_count": null,
   "id": "4987fe0f",
   "metadata": {},
   "outputs": [],
   "source": []
  }
 ],
 "metadata": {
  "kernelspec": {
   "display_name": "Python 3 (ipykernel)",
   "language": "python",
   "name": "python3"
  },
  "language_info": {
   "codemirror_mode": {
    "name": "ipython",
    "version": 3
   },
   "file_extension": ".py",
   "mimetype": "text/x-python",
   "name": "python",
   "nbconvert_exporter": "python",
   "pygments_lexer": "ipython3",
   "version": "3.10.6"
  },
  "toc": {
   "base_numbering": 1,
   "nav_menu": {},
   "number_sections": true,
   "sideBar": true,
   "skip_h1_title": false,
   "title_cell": "Table of Contents",
   "title_sidebar": "Contents",
   "toc_cell": false,
   "toc_position": {},
   "toc_section_display": true,
   "toc_window_display": false
  }
 },
 "nbformat": 4,
 "nbformat_minor": 5
}
